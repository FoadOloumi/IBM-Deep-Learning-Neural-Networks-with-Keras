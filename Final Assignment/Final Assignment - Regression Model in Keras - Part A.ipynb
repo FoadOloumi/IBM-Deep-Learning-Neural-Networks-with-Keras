{
 "cells": [
  {
   "cell_type": "code",
   "execution_count": 1,
   "id": "49b82411-6fb5-476a-abf2-567d6fbea6c2",
   "metadata": {},
   "outputs": [
    {
     "name": "stdout",
     "output_type": "stream",
     "text": [
      "   Cement  Blast Furnace Slag  Fly Ash  Water  Superplasticizer  \\\n",
      "0   540.0                 0.0      0.0  162.0               2.5   \n",
      "1   540.0                 0.0      0.0  162.0               2.5   \n",
      "2   332.5               142.5      0.0  228.0               0.0   \n",
      "3   332.5               142.5      0.0  228.0               0.0   \n",
      "4   198.6               132.4      0.0  192.0               0.0   \n",
      "\n",
      "   Coarse Aggregate  Fine Aggregate  Age  Strength  \n",
      "0            1040.0           676.0   28     79.99  \n",
      "1            1055.0           676.0   28     61.89  \n",
      "2             932.0           594.0  270     40.27  \n",
      "3             932.0           594.0  365     41.05  \n",
      "4             978.4           825.5  360     44.30  \n",
      "(1030, 9)\n"
     ]
    }
   ],
   "source": [
    "###PART A###\n",
    "\n",
    "#Importing general libraries\n",
    "\n",
    "import pandas as pd\n",
    "import numpy as np\n",
    "\n",
    "#Loading the concrete data from a downloaded file\n",
    "\n",
    "concrete_data_raw = pd.read_csv('concrete_data.csv')\n",
    "concrete_data_raw.head()\n",
    "concrete_data_raw.shape\n",
    "\n",
    "#Checking and cleanign the dataset\n",
    "\n",
    "concrete_data_raw.describe()\n",
    "concrete_data_raw.isnull().sum()\n",
    "\n",
    "print((concrete_data_raw.head()))\n",
    "print((concrete_data_raw.shape))"
   ]
  },
  {
   "cell_type": "code",
   "execution_count": 2,
   "id": "bdf284ce-3d6c-41f7-919d-067a21a512e6",
   "metadata": {},
   "outputs": [
    {
     "name": "stdout",
     "output_type": "stream",
     "text": [
      "   Cement  Blast Furnace Slag  Fly Ash  Water  Superplasticizer  \\\n",
      "0   540.0                 0.0      0.0  162.0               2.5   \n",
      "1   540.0                 0.0      0.0  162.0               2.5   \n",
      "2   332.5               142.5      0.0  228.0               0.0   \n",
      "3   332.5               142.5      0.0  228.0               0.0   \n",
      "4   198.6               132.4      0.0  192.0               0.0   \n",
      "\n",
      "   Coarse Aggregate  Fine Aggregate  Strength  \n",
      "0            1040.0           676.0     79.99  \n",
      "1            1055.0           676.0     61.89  \n",
      "2             932.0           594.0     40.27  \n",
      "3             932.0           594.0     41.05  \n",
      "4             978.4           825.5     44.30  \n",
      "(1030, 8)\n"
     ]
    }
   ],
   "source": [
    "#Age is not one of the predictors as per the assignment instructions, so it is deleted from the dataset.\n",
    "\n",
    "concrete_data = concrete_data_raw.drop('Age', axis = 1)\n",
    "print((concrete_data.head()))\n",
    "print((concrete_data.shape))"
   ]
  },
  {
   "cell_type": "code",
   "execution_count": 3,
   "id": "620f47ad-61e7-4a13-951f-7832c1780950",
   "metadata": {},
   "outputs": [
    {
     "name": "stdout",
     "output_type": "stream",
     "text": [
      "7\n"
     ]
    },
    {
     "data": {
      "text/plain": [
       "0       79.99\n",
       "1       61.89\n",
       "2       40.27\n",
       "3       41.05\n",
       "4       44.30\n",
       "        ...  \n",
       "1025    44.28\n",
       "1026    31.18\n",
       "1027    23.70\n",
       "1028    32.77\n",
       "1029    32.40\n",
       "Name: Strength, Length: 1030, dtype: float64"
      ]
     },
     "execution_count": 3,
     "metadata": {},
     "output_type": "execute_result"
    }
   ],
   "source": [
    "#Separating predictors and target\n",
    "\n",
    "concrete_data_columns = concrete_data.columns \n",
    "predictors = concrete_data[concrete_data_columns[concrete_data_columns != 'Strength']] # All columns except Strength\n",
    "target = concrete_data['Strength'] # Strength column\n",
    "n_cols = predictors.shape[1]\n",
    "\n",
    "print(n_cols)\n",
    "target"
   ]
  },
  {
   "cell_type": "code",
   "execution_count": 4,
   "id": "847cf23f-6ec4-420c-b9c7-7449b9fc9624",
   "metadata": {},
   "outputs": [],
   "source": [
    "#Definind the neural network/model\n",
    "\n",
    "import keras\n",
    "from keras.models import Sequential\n",
    "from keras.layers import Dense\n",
    "\n",
    "def regression_model():\n",
    "    # create model\n",
    "    model = Sequential()\n",
    "    model.add(Dense(10, activation = 'relu', input_shape = (n_cols,)))\n",
    "    model.add(Dense(1))\n",
    "    \n",
    "    # compile model\n",
    "    model.compile(optimizer = 'adam', loss = 'mean_squared_error')\n",
    "    return model"
   ]
  },
  {
   "cell_type": "code",
   "execution_count": 5,
   "id": "7bc6821e-b63f-4e81-ae9b-4d096abd15c0",
   "metadata": {},
   "outputs": [
    {
     "name": "stdout",
     "output_type": "stream",
     "text": [
      "(721, 7) (721,)\n",
      "(309, 7) (309,) (309, 1)\n",
      "(50,)\n",
      "[163.5121790460525, 282.94209531697686, 232.93191297452472, 161.90545479824408, 374.00364077295507, 202.16649832929443, 168.18358752429097, 801.9929242542675, 197.4326690328767, 846.7246346753892, 180.9178648004405, 165.41159276905236, 1463.867374783196, 169.44213965199, 244.24848774056957, 174.4450323653971, 195.85072367268918, 208.05670283070486, 436.68860792532246, 469.97550935642215, 161.156766166704, 687.9318703912007, 158.38792907945754, 202.2976081255512, 198.2125459648939, 204.50697543146617, 1425.9808649339097, 193.15080538107546, 141.36032912254512, 202.4760220450542, 167.98981803760256, 171.18726233198288, 154.2238299239847, 1521.671868835459, 275.6135009116325, 557.4942238628099, 168.12501017929876, 166.86905066958715, 319.34021106236406, 198.24607343406478, 543.0801556630157, 1136.476177267666, 187.31177315890548, 210.80232487815215, 1578.207476033344, 159.7796745208662, 947.2029068700655, 279.80298858058393, 181.49622948513732, 178.0483397571644]\n",
      "The Mean of the mean squared errors is: 396.3826\n",
      "The Standard Deviation of the mean squared errors is: 393.3422\n"
     ]
    }
   ],
   "source": [
    "#Training the model, performing prediction and creating the list of MSEs\n",
    "\n",
    "from sklearn.model_selection import train_test_split\n",
    "from sklearn.metrics import mean_squared_error\n",
    "\n",
    "#Creating an empty list to store MSEs\n",
    "MSE_A = []\n",
    "\n",
    "#Performing a loop 50 times to train, test and evaluate the model, and update the MSEs\n",
    "for counter in range(50):\n",
    "    \n",
    "    X_train, X_test, y_train, y_test = train_test_split(predictors, target, test_size = 0.3) #Splitting the dataset as per instructions.\n",
    "    model_A = regression_model()\n",
    "    model_A.fit(X_train, y_train, validation_data = (X_test, y_test), epochs = 50, verbose = 0) #Training the model as per instructions.\n",
    "    \n",
    "    y_pred = model_A.predict(X_test) #Using the model to predict the test set\n",
    "    MSE_A.append(mean_squared_error(y_test, y_pred)) #Updating mean squared error list with the new value\n",
    "    \n",
    "    counter += 1 \n",
    "\n",
    "print(X_train.shape, y_train.shape) #Confirming the successful data splitting operation\n",
    "print(X_test.shape, y_test.shape, y_pred.shape) #Confirming the successful data splitting operation\n",
    "print(np.shape(MSE_A)) #Confirming the number of MSEs collected \n",
    "print(MSE_A)\n",
    "\n",
    "print(\"The Mean of the mean squared errors is: %.4f\" % np.mean(MSE_A)) #Outputting the mean of MSEs \n",
    "print(\"The Standard Deviation of the mean squared errors is: %.4f\" % np.std(MSE_A)) #Outputting the mean of MSEs"
   ]
  },
  {
   "cell_type": "code",
   "execution_count": null,
   "id": "ece1c3b7-721d-4fc4-865c-854122cc5d7d",
   "metadata": {},
   "outputs": [],
   "source": []
  }
 ],
 "metadata": {
  "kernelspec": {
   "display_name": "Python 3 (ipykernel)",
   "language": "python",
   "name": "python3"
  },
  "language_info": {
   "codemirror_mode": {
    "name": "ipython",
    "version": 3
   },
   "file_extension": ".py",
   "mimetype": "text/x-python",
   "name": "python",
   "nbconvert_exporter": "python",
   "pygments_lexer": "ipython3",
   "version": "3.9.7"
  }
 },
 "nbformat": 4,
 "nbformat_minor": 5
}
